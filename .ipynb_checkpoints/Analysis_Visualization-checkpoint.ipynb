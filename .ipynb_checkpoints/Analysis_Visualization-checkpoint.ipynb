{
 "cells": [
  {
   "cell_type": "code",
   "execution_count": null,
   "id": "3d064922-d128-4316-9b89-185357090de7",
   "metadata": {},
   "outputs": [],
   "source": [
    "import numpy as np \n",
    "import pandas as pd \n",
    "import seaborn as sns\n",
    "from matplotlib import pyplot as plt"
   ]
  },
  {
   "cell_type": "code",
   "execution_count": null,
   "id": "4b192754-cae1-4464-96cc-16b63425119a",
   "metadata": {},
   "outputs": [],
   "source": [
    "#Importing the dataset that cleaned by R to remove outliers\n",
    "df = pd.read_csv(\"final_data.csv\", header=0)"
   ]
  },
  {
   "cell_type": "code",
   "execution_count": null,
   "id": "ad33607a-ded2-4eb0-87f8-b44ca73cd462",
   "metadata": {},
   "outputs": [],
   "source": [
    "#GETTING INSIGHTS\n",
    "df.type.value_counts()"
   ]
  },
  {
   "cell_type": "code",
   "execution_count": null,
   "id": "ea7d9008-0a64-463e-bdd3-be51e90e848c",
   "metadata": {},
   "outputs": [],
   "source": [
    "#visualizing the type\n",
    "plt.figure(figsize=(10,8))\n",
    "\n",
    "plt.pie(df.type.value_counts(), \n",
    "        labels = df.type.value_counts().index, \n",
    "        labeldistance = None, autopct=\"%.2f\", \n",
    "        textprops = {'fontsize': 16,}, \n",
    "        colors = ['coral','khaki' ] )\n",
    "plt.legend()\n",
    "plt.show()"
   ]
  },
  {
   "cell_type": "code",
   "execution_count": null,
   "id": "c1a340d1-ec6c-477a-bff2-6d455c4e3850",
   "metadata": {},
   "outputs": [],
   "source": [
    "plt.figure(figsize = (10,6))\n",
    "count_plot = sns.countplot(x = \"Release Year\", data = last_decade, hue=\"type\",\n",
    "             palette= \"magma\")\n",
    "count_plot.set(title = \"Trend of each type of content Released over the years\")\n",
    ";"
   ]
  },
  {
   "cell_type": "code",
   "execution_count": null,
   "id": "3e27a6de-15e8-49d9-b413-8fc21b74bfb7",
   "metadata": {},
   "outputs": [],
   "source": [
    "plt.figure(figsize = (10,6))\n",
    "plot_total_content= sns.lineplot(x= \"Release Year\", y = \"Total Content\", data = last_decade_df, \n",
    "                                linewidth = 3)\n",
    "plot_total_content.set(xlabel = \"Release Year\", ylabel = \"Total Content\", \n",
    "                      title = \"Trend of content on netflix\")\n",
    "plt.show()"
   ]
  },
  {
   "cell_type": "code",
   "execution_count": null,
   "id": "8a6ca3f6-74d8-422a-8e55-87b2029da689",
   "metadata": {},
   "outputs": [],
   "source": [
    "top_10_countries= df.country.value_counts().head(10)\n",
    "top_10_countries = pd.DataFrame(top_10_countries)\n",
    "top_10_countries"
   ]
  },
  {
   "cell_type": "code",
   "execution_count": null,
   "id": "0d7c3099-606f-4ca6-b2e8-a2f7438c536a",
   "metadata": {},
   "outputs": [],
   "source": [
    "plt.figure(figsize = (10,8))\n",
    "country_plot = sns.barplot(x = df.country.value_counts()[:10].values, \n",
    "                           y= df.country.value_counts()[:10].index,palette = \"cividis_r\")\n",
    "for i in country_plot.containers:\n",
    "    country_plot.bar_label(i); "
   ]
  },
  {
   "cell_type": "code",
   "execution_count": null,
   "id": "58508d21-96ba-4e7a-9492-31c194fbef2a",
   "metadata": {},
   "outputs": [],
   "source": [
    "plt.figure(figsize= (10,6))\n",
    "sns.countplot(x=\"rating_ABBR\", data=df, palette=\"inferno\",)\n",
    "plt.title(\"count of Rating by Movie and Shows\");"
   ]
  }
 ],
 "metadata": {
  "kernelspec": {
   "display_name": "Python 3 (ipykernel)",
   "language": "python",
   "name": "python3"
  },
  "language_info": {
   "codemirror_mode": {
    "name": "ipython",
    "version": 3
   },
   "file_extension": ".py",
   "mimetype": "text/x-python",
   "name": "python",
   "nbconvert_exporter": "python",
   "pygments_lexer": "ipython3",
   "version": "3.9.6"
  }
 },
 "nbformat": 4,
 "nbformat_minor": 5
}
