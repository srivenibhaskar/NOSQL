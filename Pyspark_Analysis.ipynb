{
 "cells": [
  {
   "cell_type": "code",
   "execution_count": 1,
   "id": "325c2024-02fb-41e8-be12-257a37a58531",
   "metadata": {},
   "outputs": [],
   "source": [
    "from pyspark.sql import SparkSession"
   ]
  },
  {
   "cell_type": "code",
   "execution_count": 2,
   "id": "2e52e7b5-6d97-409f-bcce-19a500e4b99c",
   "metadata": {},
   "outputs": [
    {
     "name": "stderr",
     "output_type": "stream",
     "text": [
      "23/12/08 09:52:45 WARN Utils: Your hostname, Srivenis-MacBook-Air.local resolves to a loopback address: 127.0.0.1; using 10.0.0.201 instead (on interface en0)\n",
      "23/12/08 09:52:45 WARN Utils: Set SPARK_LOCAL_IP if you need to bind to another address\n",
      "Setting default log level to \"WARN\".\n",
      "To adjust logging level use sc.setLogLevel(newLevel). For SparkR, use setLogLevel(newLevel).\n",
      "23/12/08 09:52:46 WARN NativeCodeLoader: Unable to load native-hadoop library for your platform... using builtin-java classes where applicable\n"
     ]
    }
   ],
   "source": [
    "# Create a SparkSession\n",
    "spark = SparkSession.builder.appName(\"NetflixAnalysis\").getOrCreate()"
   ]
  },
  {
   "cell_type": "code",
   "execution_count": 3,
   "id": "1b2eabce-0489-48d4-a4b3-ed0ce1f4d81f",
   "metadata": {},
   "outputs": [],
   "source": [
    "# Load data into a DataFrame\n",
    "file_path = \"/Users/srivenikunduru/Downloads/NOSQL_Project/final_data.csv\"\n",
    "df = spark.read.csv(file_path, header=True, inferSchema=True)"
   ]
  },
  {
   "cell_type": "code",
   "execution_count": 4,
   "id": "1cd36989-2cd5-42ec-bdcf-9341c1168f9d",
   "metadata": {},
   "outputs": [],
   "source": [
    "# Create a temporary view for running SQL queries\n",
    "df.createOrReplaceTempView(\"netflix_data\")\n"
   ]
  },
  {
   "cell_type": "code",
   "execution_count": 5,
   "id": "96c630f5-bda4-45cb-b770-7230187ea0e8",
   "metadata": {},
   "outputs": [
    {
     "name": "stdout",
     "output_type": "stream",
     "text": [
      "+--------------------+-----+\n",
      "|                type|count|\n",
      "+--------------------+-----+\n",
      "|Mature Audience (TV)|    1|\n",
      "|             TV Show| 1757|\n",
      "|               Movie| 3299|\n",
      "+--------------------+-----+\n",
      "\n"
     ]
    }
   ],
   "source": [
    "# Perform  analysis on type\n",
    "spark.sql(\"SELECT type, COUNT(*) AS count FROM netflix_data GROUP BY type\").show()"
   ]
  },
  {
   "cell_type": "code",
   "execution_count": 6,
   "id": "7bb95351-d604-4a2a-8c1d-063f1e3a67ba",
   "metadata": {},
   "outputs": [
    {
     "name": "stdout",
     "output_type": "stream",
     "text": [
      "+--------+-----+--------------------+--------------------+--------------------+-------------+----------+---------------+------------+------+--------+--------------------+--------------------+--------------------+\n",
      "| show_id| type|               Title|            director|                cast|      country|date_added|date_added_year|release_year|rating|duration|           listed_in|         description|         rating_ABBR|\n",
      "+--------+-----+--------------------+--------------------+--------------------+-------------+----------+---------------+------------+------+--------+--------------------+--------------------+--------------------+\n",
      "|80219127|Movie|Avengers: Infinit...|Anthony Russo, Jo...|Robert Downey Jr....|United States| 25-Dec-18|           2018|        2018| PG-13| 150 min|Action & Adventur...|Superheroes amass...|Parents Strongly ...|\n",
      "+--------+-----+--------------------+--------------------+--------------------+-------------+----------+---------------+------------+------+--------+--------------------+--------------------+--------------------+\n",
      "\n"
     ]
    }
   ],
   "source": [
    "# Defining a function to find \"Avengers: Infinity War\"\n",
    "avengers_query = spark.sql(\"SELECT * FROM netflix_data WHERE Title = 'Avengers: Infinity War'\")\n",
    "avengers_query.show()"
   ]
  },
  {
   "cell_type": "code",
   "execution_count": 7,
   "id": "f5e8d88a-f08f-450c-917f-dbef166193fd",
   "metadata": {},
   "outputs": [
    {
     "name": "stdout",
     "output_type": "stream",
     "text": [
      "+-------+----+-----+--------+----+-------+----------+---------------+------------+------+--------+---------+-----------+-----------+\n",
      "|show_id|type|Title|director|cast|country|date_added|date_added_year|release_year|rating|duration|listed_in|description|rating_ABBR|\n",
      "+-------+----+-----+--------+----+-------+----------+---------------+------------+------+--------+---------+-----------+-----------+\n",
      "+-------+----+-----+--------+----+-------+----------+---------------+------------+------+--------+---------+-----------+-----------+\n",
      "\n"
     ]
    }
   ],
   "source": [
    "# query utilizing the $regex operator to identify records that contain particular words within the 'Country' column.\n",
    "countries_to_match = ['India', 'Canada']\n",
    "country_query = spark.sql(f\"SELECT * FROM netflix_data WHERE country RLIKE '(\\\\b{'|'.join(countries_to_match)}\\\\b)'\")\n",
    "country_query.show()"
   ]
  },
  {
   "cell_type": "code",
   "execution_count": 8,
   "id": "dd4a4df3-a516-4e86-89c1-9c0ae384ff6f",
   "metadata": {},
   "outputs": [
    {
     "name": "stdout",
     "output_type": "stream",
     "text": [
      "+--------+-------+--------------------+--------------------+--------------------+--------------------+----------+---------------+------------+------+--------+--------------------+--------------------+--------------------+\n",
      "| show_id|   type|               Title|            director|                cast|             country|date_added|date_added_year|release_year|rating|duration|           listed_in|         description|         rating_ABBR|\n",
      "+--------+-------+--------------------+--------------------+--------------------+--------------------+----------+---------------+------------+------+--------+--------------------+--------------------+--------------------+\n",
      "|80057969|  Movie|                Love|          Gaspar Noé|Karl Glusman, Kla...|     France, Belgium| 08-Sep-17|           2017|        2015|    NR| 135 min|Cult Movies, Dram...|A man in an unsat...|           Not Rated|\n",
      "|80239639|  Movie|Sierra Burgess Is...|         Ian Samuels|Shannon Purser, K...|       United States| 07-Sep-18|           2018|        2018| PG-13| 106 min|Comedies, Romanti...|A wrong-number te...|Parents Strongly ...|\n",
      "|81113928|  Movie|Care of Kancharap...|      Maha Venkatesh|Subba Rao Vepada,...|       United States| 06-Sep-19|           2019|        2018| TV-14| 142 min|Comedies, Dramas,...|From a schoolboy’...|Parents Strongly ...|\n",
      "|80104068|  Movie|  Our Souls at Night|        Ritesh Batra|Robert Redford, J...|       United States| 29-Sep-17|           2017|        2017| TV-14| 103 min|Dramas, Romantic ...|After widowed nei...|Parents Strongly ...|\n",
      "|81177238|  Movie|              Malaal|    Mangesh Hadawale|Meezaan Jaffrey, ...|               India| 26-Sep-19|           2019|        2019| TV-14| 133 min|International Mov...|Class divides bec...|Parents Strongly ...|\n",
      "|81000389|TV Show|    The Hockey Girls|Kiko Cruz Clavero...|Iria del Río, Nor...|               Spain| 20-Sep-19|           2019|        2019| TV-MA|1 Season|International TV ...|The passionate me...|Mature Audience (TV)|\n",
      "|81183572|  Movie|        Deviant Love|      Michael Feifer|Emma Bell, Nick B...|       United States| 13-Sep-19|           2019|        2019| TV-14|  87 min|           Thrillers|In a tailspin aft...|Parents Strongly ...|\n",
      "|81004162|TV Show| The Road to Calvary|             UNKNOWN|Anna Chipovskaya,...|              Russia| 01-Sep-18|           2018|        2017| TV-14|1 Season|International TV ...|Swept up in polit...|Parents Strongly ...|\n",
      "|80133200|TV Show|              Maniac|             UNKNOWN|Espen Petrus Ande...|              Norway| 01-Sep-17|           2017|        2015| TV-MA|1 Season|International TV ...|A nondescript man...|Mature Audience (TV)|\n",
      "|80114155|  Movie|             Dukhtar|      Afia Nathaniel|Samiya Mumtaz, Mo...|Pakistan, Norway,...| 01-Sep-16|           2016|        2014| TV-14|  93 min|Dramas, Independe...|A young mother em...|Parents Strongly ...|\n",
      "|80211465|TV Show|          Wanderlust|             UNKNOWN|Toni Collette, St...|      United Kingdom| 19-Oct-18|           2018|        2018| TV-MA|1 Season|British TV Shows,...|Unable to revive ...|Mature Audience (TV)|\n",
      "|80136787|TV Show|            La Femme|             UNKNOWN|Zoe Tay, Ann Kok,...|       United States| 16-Oct-17|           2017|        2016| TV-14|1 Season|International TV ...|Personal desires ...|Parents Strongly ...|\n",
      "|80155812|  Movie|        Clair Obscur|      Yesim Ustaoglu|Funda Eryiğit, Ec...|Turkey, France, G...| 13-Oct-17|           2017|        2016| TV-MA| 102 min|Dramas, Internati...|While examining a...|Mature Audience (TV)|\n",
      "|80032476|  Movie|      Happy Go Lucky|Amarpreet G S Cha...|Amrinder Gill, Ha...|               India| 01-Oct-18|           2018|        2014| TV-14| 129 min|Comedies, Interna...|Three sisters see...|Parents Strongly ...|\n",
      "|81024705|  Movie|Zindagi Kitni Has...|       Anjum Shahzad|Feroze Khan, Saja...|            Pakistan| 01-Oct-18|           2018|        2016| TV-14| 126 min|Dramas, Internati...|Two young parents...|Parents Strongly ...|\n",
      "|80156995|TV Show| Justice in the City|             UNKNOWN|Chris Tong, Shaun...|       United States| 01-Oct-17|           2017|        2012| TV-14|1 Season|International TV ...|Repeatedly on opp...|Parents Strongly ...|\n",
      "|80167628|  Movie|          The Lovers|       Azazel Jacobs|Aidan Gillen, Mel...|       United States| 05-Nov-19|           2019|        2017|     R|  98 min|Comedies, Dramas,...|On the verge of d...|          Restricted|\n",
      "|80245262|TV Show|    Singapore Social|             UNKNOWN|Nicole Ong, Mae T...|Singapore, United...| 22-Nov-19|           2019|        2019| TV-MA|1 Season|International TV ...|Peer into the liv...|Mature Audience (TV)|\n",
      "|81019520|TV Show|        Eternal Love|             UNKNOWN|Yang Mi, Mark Cha...|               China| 17-Nov-18|           2018|        2017| TV-14|1 Season|International TV ...|After the deities...|Parents Strongly ...|\n",
      "|80058424|  Movie|John Mulaney: The...|         Rhys Thomas|        John Mulaney|       United States| 13-Nov-15|           2015|        2015| TV-MA|  62 min|     Stand-Up Comedy|\"Armed with boyis...| his beef with ba...|\n",
      "+--------+-------+--------------------+--------------------+--------------------+--------------------+----------+---------------+------------+------+--------+--------------------+--------------------+--------------------+\n",
      "only showing top 20 rows\n",
      "\n",
      "+-------+----+-----+--------+----+-------+----------+---------------+------------+------+--------+---------+-----------+-----------+\n",
      "|show_id|type|Title|director|cast|country|date_added|date_added_year|release_year|rating|duration|listed_in|description|rating_ABBR|\n",
      "+-------+----+-----+--------+----+-------+----------+---------------+------------+------+--------+---------+-----------+-----------+\n",
      "+-------+----+-----+--------+----+-------+----------+---------------+------------+------+--------+---------+-----------+-----------+\n",
      "\n"
     ]
    }
   ],
   "source": [
    "# Building a regex patterns to search for partial words in 'description' field\n",
    "partial_words_to_search_relationship = ['relationship', 'romance', 'marriage', 'love']\n",
    "partial_words_to_search_dystopian = ['dystopian', 'thriller']\n",
    "\n",
    "relationship_query = spark.sql(f\"SELECT * FROM netflix_data WHERE description RLIKE '(\\\\b{'|'.join(partial_words_to_search_relationship)}\\\\b)'\")\n",
    "dystopian_query = spark.sql(f\"SELECT * FROM netflix_data WHERE description RLIKE '(\\\\b{'|'.join(partial_words_to_search_dystopian)}\\\\b)'\")\n",
    "\n",
    "relationship_query.show()\n",
    "dystopian_query.show()\n"
   ]
  },
  {
   "cell_type": "code",
   "execution_count": null,
   "id": "758f5c70-d70c-4fcf-aa0e-1b589f7a07c0",
   "metadata": {},
   "outputs": [],
   "source": []
  }
 ],
 "metadata": {
  "kernelspec": {
   "display_name": "Python 3 (ipykernel)",
   "language": "python",
   "name": "python3"
  },
  "language_info": {
   "codemirror_mode": {
    "name": "ipython",
    "version": 3
   },
   "file_extension": ".py",
   "mimetype": "text/x-python",
   "name": "python",
   "nbconvert_exporter": "python",
   "pygments_lexer": "ipython3",
   "version": "3.9.6"
  }
 },
 "nbformat": 4,
 "nbformat_minor": 5
}
